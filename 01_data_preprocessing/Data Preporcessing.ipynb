{
 "cells": [
  {
   "cell_type": "markdown",
   "metadata": {},
   "source": [
    "## 1. Imports"
   ]
  },
  {
   "cell_type": "code",
   "execution_count": 1,
   "metadata": {},
   "outputs": [],
   "source": [
    "import sys, os, re, random\n",
    "import numpy as np\n",
    "import matplotlib.pyplot as plt\n",
    "\n",
    "import pandas as pd\n",
    "import seaborn as sns\n",
    "from itertools import chain\n",
    "\n",
    "from sklearn.model_selection import train_test_split\n",
    "from sklearn.preprocessing import StandardScaler\n",
    "\n",
    "join_path = os.path.join\n",
    "ls = os.listdir\n",
    "exists = os.path.exists\n",
    "bname = os.path.basename\n",
    "dname = os.path.dirname\n",
    "find = re.findall\n",
    "mapFn = lambda x, y: list(map(x, y))"
   ]
  },
  {
   "cell_type": "markdown",
   "metadata": {},
   "source": [
    "### 1.1 Helper Functions"
   ]
  },
  {
   "cell_type": "code",
   "execution_count": 2,
   "metadata": {},
   "outputs": [],
   "source": [
    "def has_null_values(df):\n",
    "    \"\"\"Checks for missing values\n",
    "\n",
    "        performs isnull() operation on Pandas DataFrame to check if missing values exist\n",
    "\n",
    "        Args:\n",
    "            df (pd.core.frame.DataFrame): input dataframe to check for missing values\n",
    "\n",
    "        Returns:\n",
    "            _ (bool): returns True if DataFrame has missing values\n",
    "    \"\"\"\n",
    "    \n",
    "    if not isinstance(df, pd.core.frame.DataFrame): raise TypeError('Invalid Type : df should be a DataFrame')\n",
    "    return df.isnull().values.any()\n",
    "\n",
    "def replace_and_drop_na(df, removal_type='col'):\n",
    "    \"\"\"Drops missing values\n",
    "    \n",
    "        performs replace inf to nans and then drops all rows or columns with nans in the dataframe\n",
    "        \n",
    "        Args:\n",
    "            df (pd.core.frame.DataFrame): input dataframe to perform add operation on its columns\n",
    "            removal_type (str): Can be 'row' | 'col'; Column-wise Cleaning or Row-Wise Cleaning\n",
    "            \n",
    "        Returns:\n",
    "            df (pd.core.frame.DataFrame): Updated existing dataframe withour missing values\n",
    "    \"\"\"\n",
    "    \n",
    "    if not isinstance(df, pd.core.frame.DataFrame): raise TypeError('Invalid Type : df should be a DataFrame')\n",
    "    \n",
    "    df = df.replace([np.inf, -np.inf], np.nan)\n",
    "    \n",
    "    if removal_type == 'col':\n",
    "        df = df.dropna(how=\"any\", axis=1)\n",
    "    elif  removal_type == 'row':\n",
    "        df = df.dropna(subset=df.columns, how=\"any\")\n",
    "    else:\n",
    "        raise ValueError('Invalid Value : removal_type can only be \\'row\\' or \\'col\\' ')\n",
    "    \n",
    "    if has_null_values(df): \n",
    "        raise ValueError('Invalid Value : Dataframe still contains Nan Values')\n",
    "    else:\n",
    "        return df"
   ]
  },
  {
   "cell_type": "markdown",
   "metadata": {},
   "source": [
    " "
   ]
  },
  {
   "cell_type": "markdown",
   "metadata": {},
   "source": [
    "## 2. Define Base Directory and Sub File Paths"
   ]
  },
  {
   "cell_type": "code",
   "execution_count": 3,
   "metadata": {},
   "outputs": [
    {
     "data": {
      "text/plain": [
       "['breed_labels.csv',\n",
       " '.DS_Store',\n",
       " 'test.csv',\n",
       " 'color_labels.csv',\n",
       " 'train.csv',\n",
       " 'state_labels.csv']"
      ]
     },
     "execution_count": 3,
     "metadata": {},
     "output_type": "execute_result"
    }
   ],
   "source": [
    "base_dataset_dir = '../00_dataset/'\n",
    "ls(base_dataset_dir)"
   ]
  },
  {
   "cell_type": "code",
   "execution_count": 4,
   "metadata": {},
   "outputs": [],
   "source": [
    "# dataset paths\n",
    "train_csv, test_csv, breed_labels, color_labels, state_labels = \\\n",
    "['train.csv', 'test.csv', 'breed_labels.csv', 'color_labels.csv', 'state_labels.csv']"
   ]
  },
  {
   "cell_type": "code",
   "execution_count": 5,
   "metadata": {},
   "outputs": [
    {
     "data": {
      "text/plain": [
       "['../00_dataset/train.csv',\n",
       " '../00_dataset/test.csv',\n",
       " '../00_dataset/breed_labels.csv',\n",
       " '../00_dataset/color_labels.csv',\n",
       " '../00_dataset/state_labels.csv']"
      ]
     },
     "execution_count": 5,
     "metadata": {},
     "output_type": "execute_result"
    }
   ],
   "source": [
    "[train_csv_path, test_csv_path, breed_labels_path, color_labels_path, state_labels_path] = mapFn(lambda x: join_path(base_dataset_dir, x), \n",
    "                                                                                                 [train_csv, test_csv, breed_labels, color_labels, state_labels])\n",
    "[train_csv_path, test_csv_path, breed_labels_path, color_labels_path, state_labels_path]"
   ]
  },
  {
   "cell_type": "code",
   "execution_count": 6,
   "metadata": {},
   "outputs": [
    {
     "data": {
      "text/plain": [
       "['../00_dataset/train.csv exists...',\n",
       " '../00_dataset/test.csv exists...',\n",
       " '../00_dataset/breed_labels.csv exists...',\n",
       " '../00_dataset/color_labels.csv exists...',\n",
       " '../00_dataset/state_labels.csv exists...']"
      ]
     },
     "execution_count": 6,
     "metadata": {},
     "output_type": "execute_result"
    }
   ],
   "source": [
    "[\"{} exists...\".format(path) for path in [train_csv_path, test_csv_path, breed_labels_path, color_labels_path, state_labels_path] if exists(path)]"
   ]
  },
  {
   "cell_type": "markdown",
   "metadata": {},
   "source": [
    " "
   ]
  },
  {
   "cell_type": "markdown",
   "metadata": {},
   "source": [
    "## 3. Load Data"
   ]
  },
  {
   "cell_type": "code",
   "execution_count": 7,
   "metadata": {},
   "outputs": [],
   "source": [
    "raw_train_data = pd.read_csv(train_csv_path)\n",
    "raw_test_data =  pd.read_csv(test_csv_path)"
   ]
  },
  {
   "cell_type": "code",
   "execution_count": 8,
   "metadata": {},
   "outputs": [
    {
     "data": {
      "text/plain": [
       "((14993, 24), (3972, 23))"
      ]
     },
     "execution_count": 8,
     "metadata": {},
     "output_type": "execute_result"
    }
   ],
   "source": [
    "raw_train_data.shape, raw_test_data.shape"
   ]
  },
  {
   "cell_type": "markdown",
   "metadata": {},
   "source": [
    " "
   ]
  },
  {
   "cell_type": "code",
   "execution_count": 9,
   "metadata": {},
   "outputs": [
    {
     "data": {
      "text/plain": [
       "Index(['Type', 'Name', 'Age', 'Breed1', 'Breed2', 'Gender', 'Color1', 'Color2',\n",
       "       'Color3', 'MaturitySize', 'FurLength', 'Vaccinated', 'Dewormed',\n",
       "       'Sterilized', 'Health', 'Quantity', 'Fee', 'State', 'RescuerID',\n",
       "       'VideoAmt', 'Description', 'PetID', 'PhotoAmt', 'AdoptionSpeed'],\n",
       "      dtype='object')"
      ]
     },
     "execution_count": 9,
     "metadata": {},
     "output_type": "execute_result"
    }
   ],
   "source": [
    "raw_train_data.columns"
   ]
  },
  {
   "cell_type": "code",
   "execution_count": 10,
   "metadata": {
    "scrolled": true
   },
   "outputs": [
    {
     "data": {
      "text/plain": [
       "Type               int64\n",
       "Name              object\n",
       "Age                int64\n",
       "Breed1             int64\n",
       "Breed2             int64\n",
       "Gender             int64\n",
       "Color1             int64\n",
       "Color2             int64\n",
       "Color3             int64\n",
       "MaturitySize       int64\n",
       "FurLength          int64\n",
       "Vaccinated         int64\n",
       "Dewormed           int64\n",
       "Sterilized         int64\n",
       "Health             int64\n",
       "Quantity           int64\n",
       "Fee                int64\n",
       "State              int64\n",
       "RescuerID         object\n",
       "VideoAmt           int64\n",
       "Description       object\n",
       "PetID             object\n",
       "PhotoAmt         float64\n",
       "AdoptionSpeed      int64\n",
       "dtype: object"
      ]
     },
     "execution_count": 10,
     "metadata": {},
     "output_type": "execute_result"
    }
   ],
   "source": [
    "raw_train_data.dtypes"
   ]
  },
  {
   "cell_type": "code",
   "execution_count": 11,
   "metadata": {
    "scrolled": true
   },
   "outputs": [
    {
     "data": {
      "text/plain": [
       "Index(['Type', 'Name', 'Age', 'Breed1', 'Breed2', 'Gender', 'Color1', 'Color2',\n",
       "       'Color3', 'MaturitySize', 'FurLength', 'Vaccinated', 'Dewormed',\n",
       "       'Sterilized', 'Health', 'Quantity', 'Fee', 'State', 'RescuerID',\n",
       "       'VideoAmt', 'Description', 'PetID', 'PhotoAmt', 'AdoptionSpeed'],\n",
       "      dtype='object')"
      ]
     },
     "execution_count": 11,
     "metadata": {},
     "output_type": "execute_result"
    }
   ],
   "source": [
    "raw_train_data.columns"
   ]
  },
  {
   "cell_type": "markdown",
   "metadata": {},
   "source": [
    " "
   ]
  },
  {
   "cell_type": "code",
   "execution_count": 12,
   "metadata": {},
   "outputs": [
    {
     "data": {
      "text/plain": [
       "({'Age',\n",
       "  'Breed1',\n",
       "  'Breed2',\n",
       "  'Color1',\n",
       "  'Color2',\n",
       "  'Color3',\n",
       "  'Dewormed',\n",
       "  'Fee',\n",
       "  'FurLength',\n",
       "  'Gender',\n",
       "  'Health',\n",
       "  'MaturitySize',\n",
       "  'PhotoAmt',\n",
       "  'State',\n",
       "  'Sterilized',\n",
       "  'Type',\n",
       "  'Vaccinated',\n",
       "  'VideoAmt'},\n",
       " {'AdoptionSpeed'})"
      ]
     },
     "execution_count": 12,
     "metadata": {},
     "output_type": "execute_result"
    }
   ],
   "source": [
    "target_features = set(['Type','Age', 'Breed1', 'Breed2', 'Gender', 'Color1', 'Color2', 'Color3',\n",
    "                    'MaturitySize', 'FurLength', 'Vaccinated', 'Dewormed', 'Sterilized', 'Health','Fee', 'State',\n",
    "                    'VideoAmt', 'PhotoAmt'])\n",
    "\n",
    "target_predictor_feature = set(['AdoptionSpeed'])\n",
    "\n",
    "target_features, target_predictor_feature"
   ]
  },
  {
   "cell_type": "markdown",
   "metadata": {},
   "source": [
    "### 3.1 Only Select Relevant Features and Drop rest of the columns"
   ]
  },
  {
   "cell_type": "code",
   "execution_count": 13,
   "metadata": {},
   "outputs": [
    {
     "data": {
      "text/plain": [
       "'Total 18 number of Features for Training and 1 feature to Predict'"
      ]
     },
     "execution_count": 13,
     "metadata": {},
     "output_type": "execute_result"
    }
   ],
   "source": [
    "\"Total {} number of Features for Training and {} feature to Predict\".format(len(target_features), len(target_predictor_feature))"
   ]
  },
  {
   "cell_type": "code",
   "execution_count": 14,
   "metadata": {},
   "outputs": [
    {
     "data": {
      "text/plain": [
       "\"Learning to predict {'AdoptionSpeed'}\""
      ]
     },
     "execution_count": 14,
     "metadata": {},
     "output_type": "execute_result"
    }
   ],
   "source": [
    "\"Learning to predict {}\".format(target_predictor_feature)"
   ]
  },
  {
   "cell_type": "markdown",
   "metadata": {},
   "source": [
    " "
   ]
  },
  {
   "cell_type": "code",
   "execution_count": 15,
   "metadata": {},
   "outputs": [
    {
     "data": {
      "text/plain": [
       "(14993, 19)"
      ]
     },
     "execution_count": 15,
     "metadata": {},
     "output_type": "execute_result"
    }
   ],
   "source": [
    "train_data = raw_train_data[target_features.union(target_predictor_feature)]\n",
    "train_data.shape"
   ]
  },
  {
   "cell_type": "markdown",
   "metadata": {},
   "source": [
    " "
   ]
  },
  {
   "cell_type": "code",
   "execution_count": 16,
   "metadata": {},
   "outputs": [
    {
     "name": "stdout",
     "output_type": "stream",
     "text": [
      "No Missing Values Found.\n"
     ]
    }
   ],
   "source": [
    "if not has_null_values(train_data):\n",
    "    print (\"No Missing Values Found.\")\n",
    "else:\n",
    "    \n",
    "    train_data = replace_and_drop_na(train_data, removal_type='row')\n",
    "    \n",
    "    if not has_null_values(train_data):\n",
    "        print (\"Missing Values Removed.\")\n",
    "    else:\n",
    "        raise ValueError('\\tInvalid Value : Dataframe still contains Nan Values')"
   ]
  },
  {
   "cell_type": "markdown",
   "metadata": {},
   "source": [
    "### 3.2 Get Features and Labels "
   ]
  },
  {
   "cell_type": "code",
   "execution_count": 17,
   "metadata": {},
   "outputs": [
    {
     "data": {
      "text/plain": [
       "((14993, 19), (14993, 19))"
      ]
     },
     "execution_count": 17,
     "metadata": {},
     "output_type": "execute_result"
    }
   ],
   "source": [
    "train_data_X = train_data[target_features]\n",
    "train_data_y = train_data[target_predictor_feature]\n",
    "\n",
    "train_data.shape, train_data.shape"
   ]
  },
  {
   "cell_type": "markdown",
   "metadata": {},
   "source": [
    " "
   ]
  },
  {
   "cell_type": "code",
   "execution_count": 18,
   "metadata": {},
   "outputs": [],
   "source": [
    "X, y = train_data_X, train_data_y\n",
    "split_ratio = 0.2\n",
    "\n",
    "X_train, X_test, y_train, y_test = train_test_split(X, y, test_size=split_ratio, random_state=32)"
   ]
  },
  {
   "cell_type": "code",
   "execution_count": 19,
   "metadata": {},
   "outputs": [
    {
     "data": {
      "text/html": [
       "<div>\n",
       "<style scoped>\n",
       "    .dataframe tbody tr th:only-of-type {\n",
       "        vertical-align: middle;\n",
       "    }\n",
       "\n",
       "    .dataframe tbody tr th {\n",
       "        vertical-align: top;\n",
       "    }\n",
       "\n",
       "    .dataframe thead th {\n",
       "        text-align: right;\n",
       "    }\n",
       "</style>\n",
       "<table border=\"1\" class=\"dataframe\">\n",
       "  <thead>\n",
       "    <tr style=\"text-align: right;\">\n",
       "      <th></th>\n",
       "      <th>FurLength</th>\n",
       "      <th>Breed1</th>\n",
       "      <th>Breed2</th>\n",
       "      <th>Color2</th>\n",
       "      <th>Type</th>\n",
       "      <th>Sterilized</th>\n",
       "      <th>Vaccinated</th>\n",
       "      <th>Gender</th>\n",
       "      <th>State</th>\n",
       "      <th>Color3</th>\n",
       "      <th>Color1</th>\n",
       "      <th>Age</th>\n",
       "      <th>Health</th>\n",
       "      <th>MaturitySize</th>\n",
       "      <th>Fee</th>\n",
       "      <th>VideoAmt</th>\n",
       "      <th>Dewormed</th>\n",
       "      <th>PhotoAmt</th>\n",
       "    </tr>\n",
       "  </thead>\n",
       "  <tbody>\n",
       "    <tr>\n",
       "      <td>count</td>\n",
       "      <td>14993.000000</td>\n",
       "      <td>14993.000000</td>\n",
       "      <td>14993.000000</td>\n",
       "      <td>14993.000000</td>\n",
       "      <td>14993.000000</td>\n",
       "      <td>14993.000000</td>\n",
       "      <td>14993.000000</td>\n",
       "      <td>14993.000000</td>\n",
       "      <td>14993.000000</td>\n",
       "      <td>14993.000000</td>\n",
       "      <td>14993.000000</td>\n",
       "      <td>14993.000000</td>\n",
       "      <td>14993.000000</td>\n",
       "      <td>14993.000000</td>\n",
       "      <td>14993.000000</td>\n",
       "      <td>14993.000000</td>\n",
       "      <td>14993.000000</td>\n",
       "      <td>14993.000000</td>\n",
       "    </tr>\n",
       "    <tr>\n",
       "      <td>mean</td>\n",
       "      <td>1.467485</td>\n",
       "      <td>265.272594</td>\n",
       "      <td>74.009738</td>\n",
       "      <td>3.222837</td>\n",
       "      <td>1.457614</td>\n",
       "      <td>1.914227</td>\n",
       "      <td>1.731208</td>\n",
       "      <td>1.776162</td>\n",
       "      <td>41346.028347</td>\n",
       "      <td>1.882012</td>\n",
       "      <td>2.234176</td>\n",
       "      <td>10.452078</td>\n",
       "      <td>1.036617</td>\n",
       "      <td>1.862002</td>\n",
       "      <td>21.259988</td>\n",
       "      <td>0.056760</td>\n",
       "      <td>1.558727</td>\n",
       "      <td>3.889215</td>\n",
       "    </tr>\n",
       "    <tr>\n",
       "      <td>std</td>\n",
       "      <td>0.599070</td>\n",
       "      <td>60.056818</td>\n",
       "      <td>123.011575</td>\n",
       "      <td>2.742562</td>\n",
       "      <td>0.498217</td>\n",
       "      <td>0.566172</td>\n",
       "      <td>0.667649</td>\n",
       "      <td>0.681592</td>\n",
       "      <td>32.444153</td>\n",
       "      <td>2.984086</td>\n",
       "      <td>1.745225</td>\n",
       "      <td>18.155790</td>\n",
       "      <td>0.199535</td>\n",
       "      <td>0.547959</td>\n",
       "      <td>78.414548</td>\n",
       "      <td>0.346185</td>\n",
       "      <td>0.695817</td>\n",
       "      <td>3.487810</td>\n",
       "    </tr>\n",
       "    <tr>\n",
       "      <td>min</td>\n",
       "      <td>1.000000</td>\n",
       "      <td>0.000000</td>\n",
       "      <td>0.000000</td>\n",
       "      <td>0.000000</td>\n",
       "      <td>1.000000</td>\n",
       "      <td>1.000000</td>\n",
       "      <td>1.000000</td>\n",
       "      <td>1.000000</td>\n",
       "      <td>41324.000000</td>\n",
       "      <td>0.000000</td>\n",
       "      <td>1.000000</td>\n",
       "      <td>0.000000</td>\n",
       "      <td>1.000000</td>\n",
       "      <td>1.000000</td>\n",
       "      <td>0.000000</td>\n",
       "      <td>0.000000</td>\n",
       "      <td>1.000000</td>\n",
       "      <td>0.000000</td>\n",
       "    </tr>\n",
       "    <tr>\n",
       "      <td>25%</td>\n",
       "      <td>1.000000</td>\n",
       "      <td>265.000000</td>\n",
       "      <td>0.000000</td>\n",
       "      <td>0.000000</td>\n",
       "      <td>1.000000</td>\n",
       "      <td>2.000000</td>\n",
       "      <td>1.000000</td>\n",
       "      <td>1.000000</td>\n",
       "      <td>41326.000000</td>\n",
       "      <td>0.000000</td>\n",
       "      <td>1.000000</td>\n",
       "      <td>2.000000</td>\n",
       "      <td>1.000000</td>\n",
       "      <td>2.000000</td>\n",
       "      <td>0.000000</td>\n",
       "      <td>0.000000</td>\n",
       "      <td>1.000000</td>\n",
       "      <td>2.000000</td>\n",
       "    </tr>\n",
       "    <tr>\n",
       "      <td>50%</td>\n",
       "      <td>1.000000</td>\n",
       "      <td>266.000000</td>\n",
       "      <td>0.000000</td>\n",
       "      <td>2.000000</td>\n",
       "      <td>1.000000</td>\n",
       "      <td>2.000000</td>\n",
       "      <td>2.000000</td>\n",
       "      <td>2.000000</td>\n",
       "      <td>41326.000000</td>\n",
       "      <td>0.000000</td>\n",
       "      <td>2.000000</td>\n",
       "      <td>3.000000</td>\n",
       "      <td>1.000000</td>\n",
       "      <td>2.000000</td>\n",
       "      <td>0.000000</td>\n",
       "      <td>0.000000</td>\n",
       "      <td>1.000000</td>\n",
       "      <td>3.000000</td>\n",
       "    </tr>\n",
       "    <tr>\n",
       "      <td>75%</td>\n",
       "      <td>2.000000</td>\n",
       "      <td>307.000000</td>\n",
       "      <td>179.000000</td>\n",
       "      <td>6.000000</td>\n",
       "      <td>2.000000</td>\n",
       "      <td>2.000000</td>\n",
       "      <td>2.000000</td>\n",
       "      <td>2.000000</td>\n",
       "      <td>41401.000000</td>\n",
       "      <td>5.000000</td>\n",
       "      <td>3.000000</td>\n",
       "      <td>12.000000</td>\n",
       "      <td>1.000000</td>\n",
       "      <td>2.000000</td>\n",
       "      <td>0.000000</td>\n",
       "      <td>0.000000</td>\n",
       "      <td>2.000000</td>\n",
       "      <td>5.000000</td>\n",
       "    </tr>\n",
       "    <tr>\n",
       "      <td>max</td>\n",
       "      <td>3.000000</td>\n",
       "      <td>307.000000</td>\n",
       "      <td>307.000000</td>\n",
       "      <td>7.000000</td>\n",
       "      <td>2.000000</td>\n",
       "      <td>3.000000</td>\n",
       "      <td>3.000000</td>\n",
       "      <td>3.000000</td>\n",
       "      <td>41415.000000</td>\n",
       "      <td>7.000000</td>\n",
       "      <td>7.000000</td>\n",
       "      <td>255.000000</td>\n",
       "      <td>3.000000</td>\n",
       "      <td>4.000000</td>\n",
       "      <td>3000.000000</td>\n",
       "      <td>8.000000</td>\n",
       "      <td>3.000000</td>\n",
       "      <td>30.000000</td>\n",
       "    </tr>\n",
       "  </tbody>\n",
       "</table>\n",
       "</div>"
      ],
      "text/plain": [
       "          FurLength        Breed1        Breed2        Color2          Type  \\\n",
       "count  14993.000000  14993.000000  14993.000000  14993.000000  14993.000000   \n",
       "mean       1.467485    265.272594     74.009738      3.222837      1.457614   \n",
       "std        0.599070     60.056818    123.011575      2.742562      0.498217   \n",
       "min        1.000000      0.000000      0.000000      0.000000      1.000000   \n",
       "25%        1.000000    265.000000      0.000000      0.000000      1.000000   \n",
       "50%        1.000000    266.000000      0.000000      2.000000      1.000000   \n",
       "75%        2.000000    307.000000    179.000000      6.000000      2.000000   \n",
       "max        3.000000    307.000000    307.000000      7.000000      2.000000   \n",
       "\n",
       "         Sterilized    Vaccinated        Gender         State        Color3  \\\n",
       "count  14993.000000  14993.000000  14993.000000  14993.000000  14993.000000   \n",
       "mean       1.914227      1.731208      1.776162  41346.028347      1.882012   \n",
       "std        0.566172      0.667649      0.681592     32.444153      2.984086   \n",
       "min        1.000000      1.000000      1.000000  41324.000000      0.000000   \n",
       "25%        2.000000      1.000000      1.000000  41326.000000      0.000000   \n",
       "50%        2.000000      2.000000      2.000000  41326.000000      0.000000   \n",
       "75%        2.000000      2.000000      2.000000  41401.000000      5.000000   \n",
       "max        3.000000      3.000000      3.000000  41415.000000      7.000000   \n",
       "\n",
       "             Color1           Age        Health  MaturitySize           Fee  \\\n",
       "count  14993.000000  14993.000000  14993.000000  14993.000000  14993.000000   \n",
       "mean       2.234176     10.452078      1.036617      1.862002     21.259988   \n",
       "std        1.745225     18.155790      0.199535      0.547959     78.414548   \n",
       "min        1.000000      0.000000      1.000000      1.000000      0.000000   \n",
       "25%        1.000000      2.000000      1.000000      2.000000      0.000000   \n",
       "50%        2.000000      3.000000      1.000000      2.000000      0.000000   \n",
       "75%        3.000000     12.000000      1.000000      2.000000      0.000000   \n",
       "max        7.000000    255.000000      3.000000      4.000000   3000.000000   \n",
       "\n",
       "           VideoAmt      Dewormed      PhotoAmt  \n",
       "count  14993.000000  14993.000000  14993.000000  \n",
       "mean       0.056760      1.558727      3.889215  \n",
       "std        0.346185      0.695817      3.487810  \n",
       "min        0.000000      1.000000      0.000000  \n",
       "25%        0.000000      1.000000      2.000000  \n",
       "50%        0.000000      1.000000      3.000000  \n",
       "75%        0.000000      2.000000      5.000000  \n",
       "max        8.000000      3.000000     30.000000  "
      ]
     },
     "execution_count": 19,
     "metadata": {},
     "output_type": "execute_result"
    }
   ],
   "source": [
    "X.describe()"
   ]
  },
  {
   "cell_type": "code",
   "execution_count": 20,
   "metadata": {},
   "outputs": [
    {
     "data": {
      "text/html": [
       "<div>\n",
       "<style scoped>\n",
       "    .dataframe tbody tr th:only-of-type {\n",
       "        vertical-align: middle;\n",
       "    }\n",
       "\n",
       "    .dataframe tbody tr th {\n",
       "        vertical-align: top;\n",
       "    }\n",
       "\n",
       "    .dataframe thead th {\n",
       "        text-align: right;\n",
       "    }\n",
       "</style>\n",
       "<table border=\"1\" class=\"dataframe\">\n",
       "  <thead>\n",
       "    <tr style=\"text-align: right;\">\n",
       "      <th></th>\n",
       "      <th>AdoptionSpeed</th>\n",
       "    </tr>\n",
       "  </thead>\n",
       "  <tbody>\n",
       "    <tr>\n",
       "      <td>count</td>\n",
       "      <td>14993.000000</td>\n",
       "    </tr>\n",
       "    <tr>\n",
       "      <td>mean</td>\n",
       "      <td>2.516441</td>\n",
       "    </tr>\n",
       "    <tr>\n",
       "      <td>std</td>\n",
       "      <td>1.177265</td>\n",
       "    </tr>\n",
       "    <tr>\n",
       "      <td>min</td>\n",
       "      <td>0.000000</td>\n",
       "    </tr>\n",
       "    <tr>\n",
       "      <td>25%</td>\n",
       "      <td>2.000000</td>\n",
       "    </tr>\n",
       "    <tr>\n",
       "      <td>50%</td>\n",
       "      <td>2.000000</td>\n",
       "    </tr>\n",
       "    <tr>\n",
       "      <td>75%</td>\n",
       "      <td>4.000000</td>\n",
       "    </tr>\n",
       "    <tr>\n",
       "      <td>max</td>\n",
       "      <td>4.000000</td>\n",
       "    </tr>\n",
       "  </tbody>\n",
       "</table>\n",
       "</div>"
      ],
      "text/plain": [
       "       AdoptionSpeed\n",
       "count   14993.000000\n",
       "mean        2.516441\n",
       "std         1.177265\n",
       "min         0.000000\n",
       "25%         2.000000\n",
       "50%         2.000000\n",
       "75%         4.000000\n",
       "max         4.000000"
      ]
     },
     "execution_count": 20,
     "metadata": {},
     "output_type": "execute_result"
    }
   ],
   "source": [
    "y.describe()"
   ]
  },
  {
   "cell_type": "code",
   "execution_count": 21,
   "metadata": {},
   "outputs": [
    {
     "name": "stdout",
     "output_type": "stream",
     "text": [
      "Training Rows : 11994, Features: 18 \n",
      "Testing Rows : 2999, Features: 18\n"
     ]
    }
   ],
   "source": [
    "print(\"Training Rows : {}, Features: {} \\\n",
    "\\nTesting Rows : {}, Features: {}\".format(X_train.shape[0], X_train.shape[1], X_test.shape[0], X_test.shape[1]))"
   ]
  },
  {
   "cell_type": "code",
   "execution_count": 22,
   "metadata": {},
   "outputs": [],
   "source": [
    "# X_train = StandardScaler().fit_transform(X_train)\n",
    "# X_test = StandardScaler().fit_transform(X_test)"
   ]
  },
  {
   "cell_type": "markdown",
   "metadata": {},
   "source": [
    "### 3.3 Save Relevent Features to a new file"
   ]
  },
  {
   "cell_type": "code",
   "execution_count": 23,
   "metadata": {},
   "outputs": [
    {
     "name": "stdout",
     "output_type": "stream",
     "text": [
      "Saved at ../00_dataset/X_train.csv\n",
      "Saved at ../00_dataset/X_test.csv\n",
      "Saved at ../00_dataset/y_train.csv\n",
      "Saved at ../00_dataset/y_test.csv\n"
     ]
    }
   ],
   "source": [
    "def saveCSVFile(dframe, filename, basedir):\n",
    "    df_path = join_path(basedir, filename+\".csv\")\n",
    "\n",
    "    dframe.to_csv(df_path, index=False)\n",
    "    print(\"Saved at {}\".format(df_path))\n",
    "\n",
    "for data, fname in zip([X_train, X_test, y_train, y_test], [\"X_train\", \"X_test\", \"y_train\", \"y_test\"]):\n",
    "    saveCSVFile(data, fname, basedir=base_dataset_dir)"
   ]
  },
  {
   "cell_type": "code",
   "execution_count": null,
   "metadata": {},
   "outputs": [],
   "source": []
  },
  {
   "cell_type": "code",
   "execution_count": null,
   "metadata": {},
   "outputs": [],
   "source": []
  },
  {
   "cell_type": "code",
   "execution_count": null,
   "metadata": {},
   "outputs": [],
   "source": []
  }
 ],
 "metadata": {
  "kernelspec": {
   "display_name": "Python 3",
   "language": "python",
   "name": "python3"
  },
  "language_info": {
   "codemirror_mode": {
    "name": "ipython",
    "version": 3
   },
   "file_extension": ".py",
   "mimetype": "text/x-python",
   "name": "python",
   "nbconvert_exporter": "python",
   "pygments_lexer": "ipython3",
   "version": "3.6.9"
  }
 },
 "nbformat": 4,
 "nbformat_minor": 2
}
