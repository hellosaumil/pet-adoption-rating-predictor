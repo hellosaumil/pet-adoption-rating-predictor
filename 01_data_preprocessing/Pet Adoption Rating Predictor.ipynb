{
 "cells": [
  {
   "cell_type": "markdown",
   "metadata": {},
   "source": [
    "## 1. Imports"
   ]
  },
  {
   "cell_type": "code",
   "execution_count": 4,
   "metadata": {},
   "outputs": [],
   "source": [
    "import sys, os, re, random\n",
    "import numpy as np\n",
    "import matplotlib.pyplot as plt\n",
    "\n",
    "import pandas as pd\n",
    "import seaborn as sns\n",
    "from itertools import chain\n",
    "\n",
    "\n",
    "join_path = os.path.join\n",
    "ls = os.listdir\n",
    "exists = os.path.exists\n",
    "bname = os.path.basename\n",
    "dname = os.path.dirname\n",
    "find = re.findall"
   ]
  },
  {
   "cell_type": "markdown",
   "metadata": {},
   "source": [
    " "
   ]
  },
  {
   "cell_type": "markdown",
   "metadata": {},
   "source": [
    "## 2. Define Base Directory and Sub File Paths"
   ]
  },
  {
   "cell_type": "code",
   "execution_count": 8,
   "metadata": {},
   "outputs": [
    {
     "data": {
      "text/plain": [
       "['breed_labels.csv',\n",
       " 'test.csv',\n",
       " 'color_labels.csv',\n",
       " 'StateLabels.csv',\n",
       " 'ColorLabels.csv',\n",
       " 'PetFinder-BreedLabels.csv',\n",
       " 'train.csv',\n",
       " 'BreedLabels.csv',\n",
       " 'PetFinder-ColorLabels.csv',\n",
       " 'PetFinder-StateLabels.csv',\n",
       " 'state_labels.csv']"
      ]
     },
     "execution_count": 8,
     "metadata": {},
     "output_type": "execute_result"
    }
   ],
   "source": [
    "base_dataset_dir = '../00_dataset/'\n",
    "ls(base_dataset_dir)"
   ]
  },
  {
   "cell_type": "code",
   "execution_count": null,
   "metadata": {},
   "outputs": [],
   "source": [
    "# path_ann = 'sat6annotations.csv'\n",
    "\n",
    "# small_set\n",
    "train_csv, test_csv, path_test_X, path_test_y = \\\n",
    "['train.csv', 'test.csv', 'test_X_200.csv', 'test_y_200.csv']"
   ]
  }
 ],
 "metadata": {
  "kernelspec": {
   "display_name": "Python 3",
   "language": "python",
   "name": "python3"
  },
  "language_info": {
   "codemirror_mode": {
    "name": "ipython",
    "version": 3
   },
   "file_extension": ".py",
   "mimetype": "text/x-python",
   "name": "python",
   "nbconvert_exporter": "python",
   "pygments_lexer": "ipython3",
   "version": "3.6.9"
  }
 },
 "nbformat": 4,
 "nbformat_minor": 2
}
